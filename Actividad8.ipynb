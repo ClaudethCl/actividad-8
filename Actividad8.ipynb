{
 "cells": [
  {
   "cell_type": "code",
   "execution_count": 1,
   "metadata": {},
   "outputs": [],
   "source": [
    "#librerías \n",
    "import pandas as pd\n",
    "import numpy as np\n",
    "import matplotlib.pyplot as plt\n",
    "import seaborn as sns\n",
    "import math\n",
    "import datetime"
   ]
  },
  {
   "cell_type": "code",
   "execution_count": 2,
   "metadata": {},
   "outputs": [
    {
     "ename": "FileNotFoundError",
     "evalue": "[Errno 2] No such file or directory: 'meteo-nogal-09.csv'",
     "output_type": "error",
     "traceback": [
      "\u001b[1;31m---------------------------------------------------------------------------\u001b[0m",
      "\u001b[1;31mFileNotFoundError\u001b[0m                         Traceback (most recent call last)",
      "\u001b[1;32m<ipython-input-2-b5095596ba7a>\u001b[0m in \u001b[0;36m<module>\u001b[1;34m\u001b[0m\n\u001b[0;32m      1\u001b[0m \u001b[1;33m\u001b[0m\u001b[0m\n\u001b[0;32m      2\u001b[0m \u001b[1;31m#Leemos el archivo meteo-nogal (las meteorológicas)\u001b[0m\u001b[1;33m\u001b[0m\u001b[1;33m\u001b[0m\u001b[1;33m\u001b[0m\u001b[0m\n\u001b[1;32m----> 3\u001b[1;33m \u001b[0mdf1\u001b[0m \u001b[1;33m=\u001b[0m \u001b[0mpd\u001b[0m\u001b[1;33m.\u001b[0m\u001b[0mDataFrame\u001b[0m\u001b[1;33m(\u001b[0m \u001b[0mpd\u001b[0m\u001b[1;33m.\u001b[0m\u001b[0mread_csv\u001b[0m\u001b[1;33m(\u001b[0m\u001b[1;34m\"meteo-nogal-09.csv\"\u001b[0m\u001b[1;33m,\u001b[0m \u001b[0mengine\u001b[0m\u001b[1;33m=\u001b[0m\u001b[1;34m\"python\"\u001b[0m \u001b[1;33m)\u001b[0m \u001b[1;33m)\u001b[0m\u001b[1;33m\u001b[0m\u001b[1;33m\u001b[0m\u001b[0m\n\u001b[0m\u001b[0;32m      4\u001b[0m \u001b[0mdf1\u001b[0m\u001b[1;33m.\u001b[0m\u001b[0mhead\u001b[0m\u001b[1;33m(\u001b[0m\u001b[1;33m)\u001b[0m\u001b[1;33m\u001b[0m\u001b[1;33m\u001b[0m\u001b[0m\n",
      "\u001b[1;32m~\\Documents\\Corel\\jupyter\\lib\\site-packages\\pandas\\io\\parsers.py\u001b[0m in \u001b[0;36mparser_f\u001b[1;34m(filepath_or_buffer, sep, delimiter, header, names, index_col, usecols, squeeze, prefix, mangle_dupe_cols, dtype, engine, converters, true_values, false_values, skipinitialspace, skiprows, nrows, na_values, keep_default_na, na_filter, verbose, skip_blank_lines, parse_dates, infer_datetime_format, keep_date_col, date_parser, dayfirst, iterator, chunksize, compression, thousands, decimal, lineterminator, quotechar, quoting, escapechar, comment, encoding, dialect, tupleize_cols, error_bad_lines, warn_bad_lines, skipfooter, doublequote, delim_whitespace, low_memory, memory_map, float_precision)\u001b[0m\n\u001b[0;32m    676\u001b[0m                     skip_blank_lines=skip_blank_lines)\n\u001b[0;32m    677\u001b[0m \u001b[1;33m\u001b[0m\u001b[0m\n\u001b[1;32m--> 678\u001b[1;33m         \u001b[1;32mreturn\u001b[0m \u001b[0m_read\u001b[0m\u001b[1;33m(\u001b[0m\u001b[0mfilepath_or_buffer\u001b[0m\u001b[1;33m,\u001b[0m \u001b[0mkwds\u001b[0m\u001b[1;33m)\u001b[0m\u001b[1;33m\u001b[0m\u001b[1;33m\u001b[0m\u001b[0m\n\u001b[0m\u001b[0;32m    679\u001b[0m \u001b[1;33m\u001b[0m\u001b[0m\n\u001b[0;32m    680\u001b[0m     \u001b[0mparser_f\u001b[0m\u001b[1;33m.\u001b[0m\u001b[0m__name__\u001b[0m \u001b[1;33m=\u001b[0m \u001b[0mname\u001b[0m\u001b[1;33m\u001b[0m\u001b[1;33m\u001b[0m\u001b[0m\n",
      "\u001b[1;32m~\\Documents\\Corel\\jupyter\\lib\\site-packages\\pandas\\io\\parsers.py\u001b[0m in \u001b[0;36m_read\u001b[1;34m(filepath_or_buffer, kwds)\u001b[0m\n\u001b[0;32m    438\u001b[0m \u001b[1;33m\u001b[0m\u001b[0m\n\u001b[0;32m    439\u001b[0m     \u001b[1;31m# Create the parser.\u001b[0m\u001b[1;33m\u001b[0m\u001b[1;33m\u001b[0m\u001b[1;33m\u001b[0m\u001b[0m\n\u001b[1;32m--> 440\u001b[1;33m     \u001b[0mparser\u001b[0m \u001b[1;33m=\u001b[0m \u001b[0mTextFileReader\u001b[0m\u001b[1;33m(\u001b[0m\u001b[0mfilepath_or_buffer\u001b[0m\u001b[1;33m,\u001b[0m \u001b[1;33m**\u001b[0m\u001b[0mkwds\u001b[0m\u001b[1;33m)\u001b[0m\u001b[1;33m\u001b[0m\u001b[1;33m\u001b[0m\u001b[0m\n\u001b[0m\u001b[0;32m    441\u001b[0m \u001b[1;33m\u001b[0m\u001b[0m\n\u001b[0;32m    442\u001b[0m     \u001b[1;32mif\u001b[0m \u001b[0mchunksize\u001b[0m \u001b[1;32mor\u001b[0m \u001b[0miterator\u001b[0m\u001b[1;33m:\u001b[0m\u001b[1;33m\u001b[0m\u001b[1;33m\u001b[0m\u001b[0m\n",
      "\u001b[1;32m~\\Documents\\Corel\\jupyter\\lib\\site-packages\\pandas\\io\\parsers.py\u001b[0m in \u001b[0;36m__init__\u001b[1;34m(self, f, engine, **kwds)\u001b[0m\n\u001b[0;32m    785\u001b[0m             \u001b[0mself\u001b[0m\u001b[1;33m.\u001b[0m\u001b[0moptions\u001b[0m\u001b[1;33m[\u001b[0m\u001b[1;34m'has_index_names'\u001b[0m\u001b[1;33m]\u001b[0m \u001b[1;33m=\u001b[0m \u001b[0mkwds\u001b[0m\u001b[1;33m[\u001b[0m\u001b[1;34m'has_index_names'\u001b[0m\u001b[1;33m]\u001b[0m\u001b[1;33m\u001b[0m\u001b[1;33m\u001b[0m\u001b[0m\n\u001b[0;32m    786\u001b[0m \u001b[1;33m\u001b[0m\u001b[0m\n\u001b[1;32m--> 787\u001b[1;33m         \u001b[0mself\u001b[0m\u001b[1;33m.\u001b[0m\u001b[0m_make_engine\u001b[0m\u001b[1;33m(\u001b[0m\u001b[0mself\u001b[0m\u001b[1;33m.\u001b[0m\u001b[0mengine\u001b[0m\u001b[1;33m)\u001b[0m\u001b[1;33m\u001b[0m\u001b[1;33m\u001b[0m\u001b[0m\n\u001b[0m\u001b[0;32m    788\u001b[0m \u001b[1;33m\u001b[0m\u001b[0m\n\u001b[0;32m    789\u001b[0m     \u001b[1;32mdef\u001b[0m \u001b[0mclose\u001b[0m\u001b[1;33m(\u001b[0m\u001b[0mself\u001b[0m\u001b[1;33m)\u001b[0m\u001b[1;33m:\u001b[0m\u001b[1;33m\u001b[0m\u001b[1;33m\u001b[0m\u001b[0m\n",
      "\u001b[1;32m~\\Documents\\Corel\\jupyter\\lib\\site-packages\\pandas\\io\\parsers.py\u001b[0m in \u001b[0;36m_make_engine\u001b[1;34m(self, engine)\u001b[0m\n\u001b[0;32m   1022\u001b[0m                                  ' \"c\", \"python\", or' ' \"python-fwf\")'.format(\n\u001b[0;32m   1023\u001b[0m                                      engine=engine))\n\u001b[1;32m-> 1024\u001b[1;33m             \u001b[0mself\u001b[0m\u001b[1;33m.\u001b[0m\u001b[0m_engine\u001b[0m \u001b[1;33m=\u001b[0m \u001b[0mklass\u001b[0m\u001b[1;33m(\u001b[0m\u001b[0mself\u001b[0m\u001b[1;33m.\u001b[0m\u001b[0mf\u001b[0m\u001b[1;33m,\u001b[0m \u001b[1;33m**\u001b[0m\u001b[0mself\u001b[0m\u001b[1;33m.\u001b[0m\u001b[0moptions\u001b[0m\u001b[1;33m)\u001b[0m\u001b[1;33m\u001b[0m\u001b[1;33m\u001b[0m\u001b[0m\n\u001b[0m\u001b[0;32m   1025\u001b[0m \u001b[1;33m\u001b[0m\u001b[0m\n\u001b[0;32m   1026\u001b[0m     \u001b[1;32mdef\u001b[0m \u001b[0m_failover_to_python\u001b[0m\u001b[1;33m(\u001b[0m\u001b[0mself\u001b[0m\u001b[1;33m)\u001b[0m\u001b[1;33m:\u001b[0m\u001b[1;33m\u001b[0m\u001b[1;33m\u001b[0m\u001b[0m\n",
      "\u001b[1;32m~\\Documents\\Corel\\jupyter\\lib\\site-packages\\pandas\\io\\parsers.py\u001b[0m in \u001b[0;36m__init__\u001b[1;34m(self, f, **kwds)\u001b[0m\n\u001b[0;32m   2075\u001b[0m         f, handles = _get_handle(f, mode, encoding=self.encoding,\n\u001b[0;32m   2076\u001b[0m                                  \u001b[0mcompression\u001b[0m\u001b[1;33m=\u001b[0m\u001b[0mself\u001b[0m\u001b[1;33m.\u001b[0m\u001b[0mcompression\u001b[0m\u001b[1;33m,\u001b[0m\u001b[1;33m\u001b[0m\u001b[1;33m\u001b[0m\u001b[0m\n\u001b[1;32m-> 2077\u001b[1;33m                                  memory_map=self.memory_map)\n\u001b[0m\u001b[0;32m   2078\u001b[0m         \u001b[0mself\u001b[0m\u001b[1;33m.\u001b[0m\u001b[0mhandles\u001b[0m\u001b[1;33m.\u001b[0m\u001b[0mextend\u001b[0m\u001b[1;33m(\u001b[0m\u001b[0mhandles\u001b[0m\u001b[1;33m)\u001b[0m\u001b[1;33m\u001b[0m\u001b[1;33m\u001b[0m\u001b[0m\n\u001b[0;32m   2079\u001b[0m \u001b[1;33m\u001b[0m\u001b[0m\n",
      "\u001b[1;32m~\\Documents\\Corel\\jupyter\\lib\\site-packages\\pandas\\io\\common.py\u001b[0m in \u001b[0;36m_get_handle\u001b[1;34m(path_or_buf, mode, encoding, compression, memory_map, is_text)\u001b[0m\n\u001b[0;32m    401\u001b[0m         \u001b[1;32melif\u001b[0m \u001b[0mis_text\u001b[0m\u001b[1;33m:\u001b[0m\u001b[1;33m\u001b[0m\u001b[1;33m\u001b[0m\u001b[0m\n\u001b[0;32m    402\u001b[0m             \u001b[1;31m# Python 3 and no explicit encoding\u001b[0m\u001b[1;33m\u001b[0m\u001b[1;33m\u001b[0m\u001b[1;33m\u001b[0m\u001b[0m\n\u001b[1;32m--> 403\u001b[1;33m             \u001b[0mf\u001b[0m \u001b[1;33m=\u001b[0m \u001b[0mopen\u001b[0m\u001b[1;33m(\u001b[0m\u001b[0mpath_or_buf\u001b[0m\u001b[1;33m,\u001b[0m \u001b[0mmode\u001b[0m\u001b[1;33m,\u001b[0m \u001b[0merrors\u001b[0m\u001b[1;33m=\u001b[0m\u001b[1;34m'replace'\u001b[0m\u001b[1;33m)\u001b[0m\u001b[1;33m\u001b[0m\u001b[1;33m\u001b[0m\u001b[0m\n\u001b[0m\u001b[0;32m    404\u001b[0m         \u001b[1;32melse\u001b[0m\u001b[1;33m:\u001b[0m\u001b[1;33m\u001b[0m\u001b[1;33m\u001b[0m\u001b[0m\n\u001b[0;32m    405\u001b[0m             \u001b[1;31m# Python 3 and binary mode\u001b[0m\u001b[1;33m\u001b[0m\u001b[1;33m\u001b[0m\u001b[1;33m\u001b[0m\u001b[0m\n",
      "\u001b[1;31mFileNotFoundError\u001b[0m: [Errno 2] No such file or directory: 'meteo-nogal-09.csv'"
     ]
    }
   ],
   "source": [
    "\n",
    "#Leemos el archivo meteo-nogal (las meteorológicas)\n",
    "df1 = pd.DataFrame( pd.read_csv(\"meteo-nogal-09.csv\", engine=\"python\" ) )\n",
    "df1.head()"
   ]
  },
  {
   "cell_type": "code",
   "execution_count": null,
   "metadata": {},
   "outputs": [],
   "source": [
    "#Mostramos los tipos de variables de nuestros datos anteriores\n",
    "\n",
    "df1.dtypes"
   ]
  },
  {
   "cell_type": "code",
   "execution_count": null,
   "metadata": {},
   "outputs": [],
   "source": [
    "#Si nos fijamos en los tipos anteriores la mayoría dice unnamed.\n",
    "#Quitaremos todas las columnas que contengan a los \"unnamed\".\n",
    "\n",
    "#La primera columna no nos está dando datos relevantes, sólo nos dice las unidades de medida y algunos NAN.\n",
    "#Por lo que quitaremos la primer columna sin que se elimine el índice,\n",
    "#haremos que el índice vuelva a contar desde cero ya que esté eliminada la columna.\n",
    "df1=df1.drop(df1.columns[df1.columns.str.contains('unnamed:',case = False)],axis = 1)\n",
    "df1 = df1.drop(df1.index[0]).reset_index(drop=True)\n",
    "df1.head()"
   ]
  },
  {
   "cell_type": "code",
   "execution_count": null,
   "metadata": {},
   "outputs": [],
   "source": [
    "#Volvemos a ver los tipos de las variables\n",
    "df1.dtypes"
   ]
  },
  {
   "cell_type": "code",
   "execution_count": null,
   "metadata": {},
   "outputs": [],
   "source": [
    "#Creamos una variable llamada Fecha0 apartit de Date y time.\n",
    "#Que tenga al dato de Date , luego un espacio luego el dato de time.\n",
    "\n",
    "\n",
    "\n",
    "#Como ya tenemos FECHA0 , entonces no sirve de mucho tener a DATE y TIME por separado.\n",
    "#Eliminamos DATE y eliminamos TIME.\n",
    "\n",
    "df1[\"FECHA0\"] = df1[\"DATE\"] +\" \"+ df1[\"TIME\"]\n",
    "df1.drop( [\"DATE\",\"TIME\"], axis=1, inplace=True )"
   ]
  },
  {
   "cell_type": "code",
   "execution_count": null,
   "metadata": {},
   "outputs": [],
   "source": [
    "#Queremos python que reconozca a Fecha0 como una variable de fecha.\n",
    "#Creemos una variable llamada FECHA de tipo fechas a la que le asignamos el valor FECHA0. \n",
    "df1['FECHA'] = pd.to_datetime(df1.apply(lambda x: x['FECHA0'], 1), dayfirst=True)\n",
    "#Eliminemos al anterior FECHA0\n",
    "df1 = df1.drop(['FECHA0'], 1)\n",
    "df1.head()"
   ]
  },
  {
   "cell_type": "code",
   "execution_count": null,
   "metadata": {},
   "outputs": [],
   "source": [
    "#Como ya tenemos a Fecha como una variable tipo fecha, ya podemos separarla por componentes. \n",
    "#Creamos una columna de meses\n",
    "df1['MES'] = df1['FECHA'].dt.month\n",
    "#Creamos una columna de días\n",
    "df1['DIA'] = df1['FECHA'].dt.day\n",
    "#Creamos una columna de horas\n",
    "df1['HORA'] = df1['FECHA'].dt.hour\n",
    "#Creamos una columna de minutos\n",
    "df1['MINUTO'] = df1['FECHA'].dt.minute\n",
    "df1.head()"
   ]
  },
  {
   "cell_type": "code",
   "execution_count": null,
   "metadata": {},
   "outputs": [],
   "source": [
    "#Aquí removeremos los dos primeros renglones, tomando en cuenta que \n",
    "#los data frames se parecen a partir del 3er renglón\n",
    "df1 = df1.drop(df1.index[0:2]).reset_index(drop=True)\n",
    "df1.head()"
   ]
  },
  {
   "cell_type": "code",
   "execution_count": null,
   "metadata": {
    "scrolled": true
   },
   "outputs": [],
   "source": [
    "#Tomaremos los datos cada 30 minutos\n",
    "df1 = df1[((df1['MINUTO'] == 30.0) | (df1['MINUTO'] == 0.0) ) & (df1['FECHA']<'2010-01-01 00:30:00')]\n",
    "#Hacemos que se recorran los índices\n",
    "df1= df1.reset_index(drop=True)\n",
    "df1.tail()"
   ]
  },
  {
   "cell_type": "code",
   "execution_count": null,
   "metadata": {},
   "outputs": [],
   "source": [
    "#Ahora leeremos el otro archivo soil-nogal (El del suelo), creando un dataframe con el\n",
    "df2 = pd.DataFrame( pd.read_csv(\"soil-nogal-09.csv\", engine=\"python\" ) )\n",
    "df2.head()"
   ]
  },
  {
   "cell_type": "code",
   "execution_count": null,
   "metadata": {},
   "outputs": [],
   "source": [
    "#De igual manera, revisamos el tipo de variables\n",
    "df2.dtypes"
   ]
  },
  {
   "cell_type": "code",
   "execution_count": null,
   "metadata": {},
   "outputs": [],
   "source": [
    "#Filtramos las columnas de interés\n",
    "df2 = df2.filter(['2 Year_RTM  L','3 Day_RTM  L','4 Hour_Minute_RTM  L','Tsuelo_10cm','Tsuelo_20cm','Tsuelo_30cm','Tsuelo_40cm'\n",
    "                  ,'Tsuelo_55cm','Tsuelo_70cm','Tsuelo_85cm','Tsuelo_100cm'],axis=1)\n",
    "df2.head()"
   ]
  },
  {
   "cell_type": "code",
   "execution_count": null,
   "metadata": {},
   "outputs": [],
   "source": [
    "#Formaremos una variable de fecha, haciendo dos arreglos con horas y minutos.\n",
    "#Convertiremos '4 Hour_Minute_RTM  L' a tipo string.\n",
    "df2['4 Hour_Minute_RTM  L'] = df2['4 Hour_Minute_RTM  L'].astype(str)"
   ]
  },
  {
   "cell_type": "code",
   "execution_count": null,
   "metadata": {},
   "outputs": [],
   "source": [
    "#Haremos los arreglos de horas y minutos\n",
    "\n",
    "hora=[]\n",
    "minuto=[]\n",
    "\n",
    "for i in range (0, len(df2)):\n",
    "    #Si contiene 4 caracteres:\n",
    "    if (len(str(df2['4 Hour_Minute_RTM  L'][i]))==4):\n",
    "        #Revisamos si es el caso 2400:\n",
    "        if (str(df2['4 Hour_Minute_RTM  L'][i])[0:2]=='24'):\n",
    "            hora.append('00')\n",
    "            minuto.append('00')\n",
    "        else:\n",
    "            hora.append(str(df2['4 Hour_Minute_RTM  L'][i])[0:2])\n",
    "            minuto.append(str(df2['4 Hour_Minute_RTM  L'][i])[2:4])\n",
    "    #Si resulta ser de 3 caracteres:\n",
    "    elif (len(str(df2['4 Hour_Minute_RTM  L'][i]))==3):\n",
    "            hora.append(str(df2['4 Hour_Minute_RTM  L'][i])[0:1])\n",
    "            minuto.append(str(df2['4 Hour_Minute_RTM  L'][i])[1:3])\n",
    "    #Si resulta ser de 2 caracteres:\n",
    "    elif (len(str(df2['4 Hour_Minute_RTM  L'][i]))==2):\n",
    "            hora.append('00')\n",
    "            minuto.append(str(df2['4 Hour_Minute_RTM  L'][i])[0:2])\n",
    "\n",
    "#Crearemos el arreglos de días\n",
    "dias =[df2['3 Day_RTM  L'][i] for i in range(0,len(df2))]"
   ]
  },
  {
   "cell_type": "code",
   "execution_count": null,
   "metadata": {},
   "outputs": [],
   "source": [
    "#Hacemos un data frame con las horas, minutos y días del segundo data frame\n",
    "d = {'dias': dias, 'hora': hora, 'minuto':minuto}\n",
    "df_fechas = pd.DataFrame(data=d)\n",
    "df_fechas.head()"
   ]
  },
  {
   "cell_type": "code",
   "execution_count": null,
   "metadata": {},
   "outputs": [],
   "source": [
    "#Para arreglar la fecha cuando la hora marca las 12am, aumentamos un día cuando el reloj marque tal hora \n",
    "dia=[]\n",
    "for i in range(0,len(df_fechas)):\n",
    "    if (df_fechas['hora'][i]=='00' and df_fechas['minuto'][i]=='00'):\n",
    "        dia.append(df_fechas['dias'][i] +1)\n",
    "    else:\n",
    "        dia.append(df_fechas['dias'][i])\n",
    "df_fechas['dia']=dia"
   ]
  },
  {
   "cell_type": "code",
   "execution_count": null,
   "metadata": {},
   "outputs": [],
   "source": [
    "#Mostramos el daata frame\n",
    "df_fechas.head()"
   ]
  },
  {
   "cell_type": "code",
   "execution_count": null,
   "metadata": {},
   "outputs": [],
   "source": [
    "#Hacemos una variable string a partir de los datos del data frame\n",
    "fechas = []\n",
    "for i in range (0,len(df2)):\n",
    "    fechas.append('2009 '+str(df_fechas['dia'][i])+ ' ' + df_fechas['hora'][i]+' '+df_fechas['minuto'][i])\n"
   ]
  },
  {
   "cell_type": "code",
   "execution_count": null,
   "metadata": {},
   "outputs": [],
   "source": [
    "#Vamos a convertir los datos del arreglo anterior a variables datetime, tomando en cuenta que se trata del calendario juliano\n",
    "FECHA = []\n",
    "for i in range(0,len(df2)):\n",
    "    d=datetime.datetime.strptime(fechas[i],'%Y %j %H %M')\n",
    "    F = d.isoformat(' ')\n",
    "    FECHA.append(F)"
   ]
  },
  {
   "cell_type": "code",
   "execution_count": null,
   "metadata": {},
   "outputs": [],
   "source": [
    "#Ahora, agregaremos la columna FECHA0 al dataframe\n",
    "df2['FECHA0']=FECHA\n",
    "df2.tail()"
   ]
  },
  {
   "cell_type": "code",
   "execution_count": null,
   "metadata": {},
   "outputs": [],
   "source": [
    "#Después vamos a convertir FECHA0 a datetime\n",
    "df2['FECHA'] = pd.to_datetime(df2.apply(lambda x: x['FECHA0'], 1), dayfirst=True)\n",
    "#Eliminamos FECHA0\n",
    "df2 = df2.drop(['FECHA0'], 1)\n",
    "df2.dtypes"
   ]
  },
  {
   "cell_type": "code",
   "execution_count": null,
   "metadata": {},
   "outputs": [],
   "source": [
    "#Como los archivos pudieran tener datos repetidos, quitamos los duplicados de ambos adata frames\n",
    "df2 = df2.drop_duplicates(subset=['FECHA'])\n",
    "df1 = df1.drop_duplicates(subset=['FECHA'])"
   ]
  },
  {
   "cell_type": "code",
   "execution_count": null,
   "metadata": {},
   "outputs": [],
   "source": [
    "#Finalmente unimos los data frames por medio de la variable FECHA\n",
    "df3 = pd.merge(df1, df2, on=['FECHA'])"
   ]
  },
  {
   "cell_type": "code",
   "execution_count": null,
   "metadata": {},
   "outputs": [],
   "source": [
    "#Mostramos el nuevo data frame\n",
    "df3.head()"
   ]
  },
  {
   "cell_type": "code",
   "execution_count": null,
   "metadata": {},
   "outputs": [],
   "source": [
    "#Eliminamos los datos que no buscamos grafica\n",
    "df3 = df3.filter(['FECHA','Tsuelo_10cm','Tsuelo_20cm','Tsuelo_30cm','Tsuelo_40cm'\n",
    "                  ,'Tsuelo_55cm','Tsuelo_70cm','Tsuelo_85cm','Tsuelo_100cm','t_Avg','air_Avg','net_rad_Avg','airT_Avg'],axis=1)\n",
    "df3.head()"
   ]
  },
  {
   "cell_type": "code",
   "execution_count": null,
   "metadata": {},
   "outputs": [],
   "source": [
    "#Elegimos un día de Enero y graficamos la temperatura del aire y las 4 temperaturas del subsuelo.\n",
    "#Graficaremos las temperaturas del primero de enero, escogiendo los datos menores al 2 de enero\n",
    "graf1=df3[df3['FECHA']<'2009-01-02 00:00:00']\n",
    "graf1_s = graf1.filter(['Tsuelo_10cm','Tsuelo_20cm','Tsuelo_40cm',\n",
    "                            'Tsuelo_85cm'],axis=1)\n",
    "\n",
    "#Para poder operar numéricamente, convertimos las variables object a float64\n",
    "graf1 = graf1.apply(pd.to_numeric, errors='coerce')\n",
    "graf1_s.head()"
   ]
  },
  {
   "cell_type": "code",
   "execution_count": null,
   "metadata": {},
   "outputs": [],
   "source": [
    "#Hacemos dos gráficas, una para las temperaturas del suelo ese día y otra para el aire\n",
    "\n",
    "#Temperaturas del subsuelo par el 01/01/2009\n",
    "sns.set(rc={'figure.figsize':(12,8.27)})\n",
    "\n",
    "fig=plt.figure(); graf1_s.plot(); plt.legend(loc='best')\n",
    "plt.title(\"Temperaturas el 1 de Enero\")\n",
    "plt.ylabel(\"Temp ºC\")\n",
    "plt.grid(True)\n",
    "\n",
    "fig.savefig(\"graf_1enero\",plt=2000)"
   ]
  },
  {
   "cell_type": "code",
   "execution_count": null,
   "metadata": {},
   "outputs": [],
   "source": [
    "#Temperatura del aire para el 01/01/2009\n",
    "sns.set(rc={'figure.figsize':(12,8.27)})\n",
    "fig=plt.figure(); graf1[\"airT_Avg\"].plot() ; plt.legend(loc='best')\n",
    "plt.title(\"Temperaturas de 1 de Enero\")\n",
    "plt.ylabel(\"Temp ºC\")\n",
    "plt.grid(True)\n",
    "\n",
    "fig.savefig(\"Tairundia\",plt=2000)"
   ]
  },
  {
   "cell_type": "code",
   "execution_count": null,
   "metadata": {},
   "outputs": [],
   "source": [
    "#Realizaremos una gráfica de temperaturas T_max, T_min y T_promedio diarias para el año completo de datos 2009. \n",
    "\n",
    "#Usaremos un nuevo dataframe\n",
    "graf2=df3\n",
    "\n",
    "#Hacemos variables para día y mes\n",
    "graf2['DIA']=graf2['FECHA'].dt.day\n",
    "graf2['MES']=graf2['FECHA'].dt.month\n",
    "\n",
    "\n",
    "#Hacemos un data frame para c/u de  las  temperaturas del suelo\n",
    "\n",
    "#Para Tsuelo_10cm \n",
    "df_10=graf2.filter(['DIA','MES','Tsuelo_10cm'],axis=1)\n",
    "#Calculamos la temperatura mínima, máxima y promedio\n",
    "df_10[\"T_10cm_max\"] = np.round(df_10.groupby([\"MES\",\"DIA\"])[\"Tsuelo_10cm\"].transform(\"max\"),decimals=1)\n",
    "df_10[\"T_10cm_min\"] = np.round(df_10.groupby([\"MES\",\"DIA\"])[\"Tsuelo_10cm\"].transform(\"min\"),decimals=1)\n",
    "df_10[\"T_10cm_mean\"] = np.round(df_10.groupby([\"MES\",\"DIA\"])[\"Tsuelo_10cm\"].transform(\"mean\"),decimals=1)\n",
    "#Eliminamos los datos que no se grafican\n",
    "df_10 = df_10.drop(['Tsuelo_10cm','DIA','MES'], 1)\n",
    "\n",
    "#Para Tsuelo_20cm \n",
    "df_20=graf2.filter(['DIA','MES','Tsuelo_20cm'],axis=1)\n",
    "#Calculamos la temperatura mínima, máxima y promedio\n",
    "df_20[\"T_20cm_max\"] = np.round(df_20.groupby([\"MES\",\"DIA\"])[\"Tsuelo_20cm\"].transform(\"max\"),decimals=1)\n",
    "df_20[\"T_20cm_min\"] = np.round(df_20.groupby([\"MES\",\"DIA\"])[\"Tsuelo_20cm\"].transform(\"min\"),decimals=1)\n",
    "df_20[\"T_20cm_mean\"] = np.round(df_20.groupby([\"MES\",\"DIA\"])[\"Tsuelo_20cm\"].transform(\"mean\"),decimals=1)\n",
    "#Eliminamos los datos que no se grafican\n",
    "df_20 = df_20.drop(['Tsuelo_20cm','DIA','MES'], 1)\n",
    "\n",
    "#Para Tsuelo_40cm \n",
    "df_40=graf2.filter(['DIA','MES','Tsuelo_40cm'],axis=1)\n",
    "#Calculamos la temperatura mínima, máxima y promedio\n",
    "df_40[\"T_40cm_max\"] = np.round(df_40.groupby([\"MES\",\"DIA\"])[\"Tsuelo_40cm\"].transform(\"max\"),decimals=1)\n",
    "df_40[\"T_40cm_min\"] = np.round(df_40.groupby([\"MES\",\"DIA\"])[\"Tsuelo_40cm\"].transform(\"min\"),decimals=1)\n",
    "df_40[\"T_40cm_mean\"] = np.round(df_40.groupby([\"MES\",\"DIA\"])[\"Tsuelo_40cm\"].transform(\"mean\"),decimals=1)\n",
    "#Eliminamos los datos que no se grafican\n",
    "df_40 = df_40.drop(['Tsuelo_40cm','DIA','MES'], 1)\n",
    "\n",
    "#Para Tsuelo_85cm \n",
    "df_85=graf2.filter(['DIA','MES','Tsuelo_85cm'],axis=1)\n",
    "#Calculamos la temperatura mínima, máxima y promedio\n",
    "df_85[\"T_85cm_max\"] = np.round(df_85.groupby([\"MES\",\"DIA\"])[\"Tsuelo_85cm\"].transform(\"max\"),decimals=1)\n",
    "df_85[\"T_85cm_min\"] = np.round(df_85.groupby([\"MES\",\"DIA\"])[\"Tsuelo_85cm\"].transform(\"min\"),decimals=1)\n",
    "df_85[\"T_85cm_mean\"] = np.round(df_85.groupby([\"MES\",\"DIA\"])[\"Tsuelo_85cm\"].transform(\"mean\"),decimals=1)\n",
    "#Eliminamos los datos que no se grafican\n",
    "df_85 = df_85.drop(['Tsuelo_85cm','DIA','MES'], 1)\n",
    "\n"
   ]
  },
  {
   "cell_type": "code",
   "execution_count": null,
   "metadata": {},
   "outputs": [],
   "source": [
    "#Gráfica para Tsuelo_10cm\n",
    "sns.set(rc={'figure.figsize':(12,8.27)})\n",
    "fig=plt.figure(); df_10.plot() ; plt.legend(loc='best')\n",
    "plt.title(\"Temperatura del suelo a 10cm\")\n",
    "plt.ylabel(\"Temp ºC\")\n",
    "plt.grid(True)\n",
    "\n",
    "fig.savefig(\"T10\",plt=2000)"
   ]
  },
  {
   "cell_type": "code",
   "execution_count": null,
   "metadata": {},
   "outputs": [],
   "source": [
    "#Gráfica para Tsuelo_20cm\n",
    "sns.set(rc={'figure.figsize':(12,8.27)})\n",
    "fig=plt.figure(); df_20.plot() ; plt.legend(loc='best')\n",
    "plt.title(\"Temperatura del suelo a 20cm\")\n",
    "plt.ylabel(\"Temp ºC\")\n",
    "plt.grid(True)\n",
    "\n",
    "fig.savefig(\"T20\",plt=2000)"
   ]
  },
  {
   "cell_type": "code",
   "execution_count": null,
   "metadata": {},
   "outputs": [],
   "source": [
    "#Gráfica para Tsuelo_40cm\n",
    "sns.set(rc={'figure.figsize':(12,8.27)})\n",
    "fig=plt.figure(); df_40.plot() ; plt.legend(loc='best')\n",
    "plt.title(\"Temperatura del suelo a 40cm\")\n",
    "plt.ylabel(\"Temp ºC\")\n",
    "plt.grid(True)\n",
    "\n",
    "fig.savefig(\"T40\",plt=2000)"
   ]
  },
  {
   "cell_type": "code",
   "execution_count": null,
   "metadata": {},
   "outputs": [],
   "source": [
    "#Gráfica para Tsuelo_85cm\n",
    "sns.set(rc={'figure.figsize':(12,8.27)})\n",
    "fig=plt.figure(); df_85.plot() ; plt.legend(loc='best')\n",
    "plt.title(\"Temperatura del suelo a 85cm\")\n",
    "plt.ylabel(\"Temp ºC\")\n",
    "plt.grid(True)\n",
    "\n",
    "fig.savefig(\"T85\",plt=2000)"
   ]
  },
  {
   "cell_type": "code",
   "execution_count": null,
   "metadata": {},
   "outputs": [],
   "source": [
    "#Realizamos la gráfica para la temperatura del aire\n",
    "\n",
    "#Quitaremos todas las variables excepto las necesarias para graficar el aire\n",
    "graf2=graf2.filter(['DIA','MES','airT_Avg'],axis=1)\n",
    "\n",
    "graf2.head()\n",
    "\n",
    "#Convertimos los datos a float 64\n",
    "graf2[graf2.columns[1:3]]=graf2[graf2.columns[1:3]].apply(pd.to_numeric,errors='coerce')\n",
    "graf2.dtypes"
   ]
  },
  {
   "cell_type": "code",
   "execution_count": null,
   "metadata": {},
   "outputs": [],
   "source": [
    "#Agrupamos y usamos la función transform para calcular las temperaturas máxima, mínima y promedio del aire\n",
    "graf2[\"airT_Avg_max\"] = np.round(graf2.groupby([\"MES\",\"DIA\"])[\"airT_Avg\"].transform(\"max\"),decimals=1)\n",
    "graf2[\"airT_Avg_min\"] = np.round(graf2.groupby([\"MES\",\"DIA\"])[\"airT_Avg\"].transform(\"min\"),decimals=1)\n",
    "graf2[\"airT_Avg_mean\"] = np.round(graf2.groupby([\"MES\",\"DIA\"])[\"airT_Avg\"].transform(\"mean\"),decimals=1)\n",
    "\n",
    "#Quitamos las columnas que no nos interesan para realizar la gráfica\n",
    "graf2 = graf2.drop(['airT_Avg','DIA','MES'], 1)\n",
    "graf2.head()\n"
   ]
  },
  {
   "cell_type": "code",
   "execution_count": null,
   "metadata": {},
   "outputs": [],
   "source": [
    "#Elaboramos la gráfica de la temperatura del aire promedio, máxima y mínima por día para todo 2009\n",
    "sns.set(rc={'figure.figsize':(12,8.27)})\n",
    "fig=plt.figure(); graf2.plot() ; plt.legend(loc='best')\n",
    "plt.title(\"Temperatura del aire para el año 2009\")\n",
    "plt.ylabel(\"Temp ºC\")\n",
    "plt.grid(True)\n",
    "\n",
    "fig.savefig(\"T_aire_2009\",plt=2000)"
   ]
  },
  {
   "cell_type": "code",
   "execution_count": null,
   "metadata": {},
   "outputs": [],
   "source": [
    "#Calcular el promedio cada 30 minutos durante el día para el mes de Enero de \n",
    "#la temperatura del aire y las 8 temperaturas promedio de subsuelo, para posteriormente\n",
    "#graficar la variación en 24 horas de las temperaturas de interés.\n",
    "\n",
    "#Tomamos el mes de enero\n",
    "graf3=df3[df3['FECHA']<'2009-02-01 00:00:00']\n",
    "\n",
    "#Tomamos las temperaturas del suelo\n",
    "graf3_s = graf3.filter(['Tsuelo_10cm','Tsuelo_20cm','Tsuelo_30cm','Tsuelo_40cm',\n",
    "                              'Tsuelo_55cm','Tsuelo_70cm','Tsuelo_85cm','Tsuelo_100cm'],axis=1)\n",
    "graf3_s.head()"
   ]
  },
  {
   "cell_type": "code",
   "execution_count": null,
   "metadata": {},
   "outputs": [],
   "source": [
    "#Gráfica de temperaturas del suelo cada 30 min para enero del 2009\n",
    "sns.set(rc={'figure.figsize':(12,8.27)})\n",
    "fig=plt.figure(); graf3_s.plot() ; plt.legend(loc='best')\n",
    "plt.title(\"Temperaturas del suelo c/30min en Enero\")\n",
    "plt.ylabel(\"Temp ºC\")\n",
    "plt.grid(True)\n",
    "\n",
    "fig.savefig(\"Temp_30_Suelo_Enero\",plt=2000)"
   ]
  },
  {
   "cell_type": "code",
   "execution_count": null,
   "metadata": {},
   "outputs": [],
   "source": [
    "#Tomamos la temperatura del aire\n",
    "graf3 = graf3.filter(['airT_Avg'],axis=1)\n",
    "graf3=graf3.apply(pd.to_numeric,errors='coerce')\n",
    "graf3.dtypes"
   ]
  },
  {
   "cell_type": "code",
   "execution_count": null,
   "metadata": {},
   "outputs": [],
   "source": [
    "#Gráfica de temperatura del aire cada 30 min para enero del 2009\n",
    "sns.set(rc={'figure.figsize':(12,8.27)})\n",
    "fig=plt.figure(); graf3.plot() ; plt.legend(loc='best')\n",
    "plt.title(\"Temperatura del aire c/30 en Enero\")\n",
    "plt.ylabel(\"Temp ºC\")\n",
    "plt.grid(True)\n",
    "\n",
    "fig.savefig(\"T30AireEnero\",plt=2000)"
   ]
  },
  {
   "cell_type": "code",
   "execution_count": null,
   "metadata": {},
   "outputs": [],
   "source": [
    "#Haremos de nuevo las gráficas para la temperatura del suelo a 4 profundidades y del aire aplicando el promedio móvil (rolling mean)\n",
    "\n",
    "#Agregamos la variable fecha que desechamos anteriormente\n",
    "df_10['FECHA']=df3['FECHA']\n",
    "df_20['FECHA']=df3['FECHA']\n",
    "df_40['FECHA']=df3['FECHA']\n",
    "df_85['FECHA']=df3['FECHA']\n",
    "graf2['FECHA']=df3['FECHA']\n",
    "\n",
    "\n",
    "#Creamos nuevos data frames para los promedios móviles\n",
    "df10roll = pd.DataFrame()\n",
    "df20roll = pd.DataFrame()\n",
    "df40roll = pd.DataFrame()\n",
    "df85roll = pd.DataFrame()\n",
    "dfairTroll = pd.DataFrame()\n",
    "\n",
    "\n",
    "#Sacaremos el promedio móvil de cada una de las  4 temperaturas para las gráficas\n",
    "df10roll[\"max10\"]=df_10.T_10cm_max.rolling(60, min_periods=1).mean()\n",
    "df10roll[\"min10\"]=df_10.T_10cm_min.rolling(60, min_periods=1).mean()\n",
    "df10roll[\"mean10\"]=df_10.T_10cm_mean.rolling(60, min_periods=1).mean()\n",
    "\n",
    "df20roll[\"max20\"]=df_20.T_20cm_max.rolling(60, min_periods=1).mean()\n",
    "df20roll[\"min20\"]=df_20.T_20cm_min.rolling(60, min_periods=1).mean()\n",
    "df20roll[\"mean20\"]=df_20.T_20cm_mean.rolling(60, min_periods=1).mean()\n",
    "\n",
    "df40roll[\"max40\"]=df_40.T_40cm_max.rolling(60, min_periods=1).mean()\n",
    "df40roll[\"min40\"]=df_40.T_40cm_min.rolling(60, min_periods=1).mean()\n",
    "df40roll[\"mean40\"]=df_40.T_40cm_mean.rolling(60, min_periods=1).mean()\n",
    "\n",
    "df85roll[\"max85\"]=df_85.T_85cm_max.rolling(60, min_periods=1).mean()\n",
    "df85roll[\"min85\"]=df_85.T_85cm_min.rolling(60, min_periods=1).mean()\n",
    "df85roll[\"mean85\"]=df_85.T_85cm_mean.rolling(60, min_periods=1).mean()\n",
    "\n",
    "dfairTroll[\"max_air\"]=graf2.airT_Avg_max.rolling(60, min_periods=1).mean()\n",
    "dfairTroll[\"min_air\"]=graf2.airT_Avg_min.rolling(60, min_periods=1).mean()\n",
    "dfairTroll[\"mean_air\"]=graf2.airT_Avg_mean.rolling(60, min_periods=1).mean()\n"
   ]
  },
  {
   "cell_type": "code",
   "execution_count": null,
   "metadata": {},
   "outputs": [],
   "source": [
    "#Gráfica suavizada 10cm \n",
    "sns.set(rc={'figure.figsize':(12,8.27)})\n",
    "fig=plt.figure(); df10roll.plot() ; plt.legend(loc='best')\n",
    "plt.title(\"Temperatura del suelo - 10cm\")\n",
    "plt.ylabel(\"Temp ºC\")\n",
    "plt.grid(True)\n",
    "\n",
    "fig.savefig(\"T_10roll\",plt=2000)"
   ]
  },
  {
   "cell_type": "code",
   "execution_count": null,
   "metadata": {},
   "outputs": [],
   "source": [
    "#Gráfica suavizada 20cm\n",
    "fig=plt.figure(); df20roll.plot() ; plt.legend(loc='best')\n",
    "plt.title(\"Temperatura del suelo - 20cm\")\n",
    "plt.ylabel(\"Temp ºC\")\n",
    "plt.grid(True)\n",
    "\n",
    "fig.savefig(\"T_20roll\",plt=2000)"
   ]
  },
  {
   "cell_type": "code",
   "execution_count": null,
   "metadata": {},
   "outputs": [],
   "source": [
    "#Gráfica suavizada 40cm\n",
    "sns.set(rc={'figure.figsize':(12,8.27)})\n",
    "fig=plt.figure(); df40roll.plot() ; plt.legend(loc='best')\n",
    "plt.title(\"Temperatura del suelo - 40cm\")\n",
    "plt.ylabel(\"Temp ºC\")\n",
    "plt.grid(True)\n",
    "\n",
    "fig.savefig(\"T_40roll\",plt=2000)"
   ]
  },
  {
   "cell_type": "code",
   "execution_count": null,
   "metadata": {},
   "outputs": [],
   "source": [
    "#Gráfica suavizada 85cm\n",
    "sns.set(rc={'figure.figsize':(12,8.27)})\n",
    "fig=plt.figure(); df85roll.plot() ; plt.legend(loc='best')\n",
    "plt.title(\"Temperatura del suelo - 85cm\")\n",
    "plt.ylabel(\"Temp ºC\")\n",
    "plt.grid(True)\n",
    "\n",
    "fig.savefig(\"T_85roll\",plt=2000)"
   ]
  },
  {
   "cell_type": "code",
   "execution_count": null,
   "metadata": {},
   "outputs": [],
   "source": [
    "#Gráfica suavizada de la T del aire\n",
    "sns.set(rc={'figure.figsize':(12,8.27)})\n",
    "fig=plt.figure(); dfairTroll.plot() ; plt.legend(loc='best')\n",
    "plt.title(\"Temperatura del aire\")\n",
    "plt.ylabel(\"Temp ºC\")\n",
    "plt.grid(True)\n",
    "\n",
    "fig.savefig(\"airT_roll\",plt=2000)"
   ]
  },
  {
   "cell_type": "code",
   "execution_count": null,
   "metadata": {},
   "outputs": [],
   "source": []
  }
 ],
 "metadata": {
  "kernelspec": {
   "display_name": "Python 3",
   "language": "python",
   "name": "python3"
  },
  "language_info": {
   "codemirror_mode": {
    "name": "ipython",
    "version": 3
   },
   "file_extension": ".py",
   "mimetype": "text/x-python",
   "name": "python",
   "nbconvert_exporter": "python",
   "pygments_lexer": "ipython3",
   "version": "3.7.1"
  }
 },
 "nbformat": 4,
 "nbformat_minor": 2
}
